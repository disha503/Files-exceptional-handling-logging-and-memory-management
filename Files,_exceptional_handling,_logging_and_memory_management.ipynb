{
  "nbformat": 4,
  "nbformat_minor": 0,
  "metadata": {
    "colab": {
      "provenance": []
    },
    "kernelspec": {
      "name": "python3",
      "display_name": "Python 3"
    },
    "language_info": {
      "name": "python"
    }
  },
  "cells": [
    {
      "cell_type": "markdown",
      "source": [
        "**Files, exceptional handling, logging and\n",
        "memory management Questions**"
      ],
      "metadata": {
        "id": "8UxKe7DbIhYX"
      }
    },
    {
      "cell_type": "markdown",
      "source": [
        "1.What is the difference between interpreted and compiled languages?\n",
        "ans.Interpreted languages execute code line by line at runtime, which makes debugging easier but can\n",
        "be slower (e.g., Python, JavaScript). Compiled languages translate the whole program into machine\n",
        "code before execution, making them faster but less flexible for quick changes (e.g., C, C++).\n",
        "2.What is exception handling in Python?\n",
        "ans.Exception handling is a way to respond to errors without stopping the program. It uses try, except,\n",
        "else, and finally blocks to manage potential issues.\n",
        "3.What is the purpose of the finally block in exception handling?\n",
        "ans.The finally block contains code that always executes, regardless of whether an error occurred,\n",
        "usually for cleanup tasks.\n",
        "4.What is logging in Python0\n",
        "ans.Logging records events that happen while a program runs. It helps in debugging, auditing, and\n",
        "tracking application behavior over time.\n",
        "5.What is the significance of the __del__ method in Python?\n",
        "ans.__del__ is a destructor method in Python. It is automatically called when an object is about to be\n",
        "destroyed, often used to release external resources\n",
        "6.What is the difference between import and from ... import in Python?\n",
        "ans.'import module' loads the whole module and requires prefixing functions with the module name.\n",
        "'from module import name' loads only specific parts, allowing direct use without module prefix.\n",
        "7.How can you handle multiple exceptions in Python?\n",
        "ans.Multiple exceptions can be handled with separate except blocks or by grouping them in a tuple:\n",
        "except (TypeError, ValueError):\n",
        "8.What is the purpose of the with statement when handling files in Python?\n",
        "ans.The with statement ensures that files are properly closed after their block finishes, even if errors\n",
        "occur, making code cleaner and safer.\n",
        "9.What is the difference between multithreading and multiprocessing?\n",
        "ans.Multithreading runs multiple threads within the same process and shares memory space.\n",
        "Multiprocessing runs multiple processes with separate memory, avoiding conflicts but using more\n",
        "resources.\n",
        "10.What are the advantages of using logging in a program?\n",
        "ans.Logging provides a permanent record of application events, aids debugging, and allows monitoring\n",
        "without interrupting the user experience.\n",
        "11.What is memory management in Python?\n",
        "ans.Python manages memory automatically using a private heap and garbage collector to allocate and\n",
        "free space.\n",
        "12.What are the basic steps involved in exception handling in Python?\n",
        "ans.1. try: write code that may raise an error.\n",
        "2.except: handle the error.\n",
        "3.else: optional, runs if no error occurs.\n",
        "4.finally: optional, always runs at the end.\n",
        "13.Why is memory management important in Python?\n",
        "ans.Efficient memory management avoids crashes, reduces resource usage, and ensures the program\n",
        "runs smoothly without slowdowns.\n",
        "14.What is the role of try and except in exception handling?\n",
        "ans.try contains code that might raise an exception; except catches and handles that exception to\n",
        "prevent program failure.\n",
        "15.How does Python's garbage collection system work?\n",
        "ans.Python's garbage collector automatically frees memory by removing objects that are no longer\n",
        "referenced, including breaking circular references.\n",
        "16.What is the purpose of the else block in exception handling?\n",
        "The else block executes if no exceptions occur in the try block, often used for code that should only\n",
        "run when everything is fine.\n",
        "17.What are the common logging levels in Python?\n",
        "ans.DEBUG (detailed info), INFO (general events), WARNING (potential issues), ERROR (serious\n",
        "problems), CRITICAL (very severe errors).\n",
        "18.What is the difference between os.fork() and multiprocessing in Python?\n",
        "ans.os.fork() is a low-level Unix-only method to create new processes, duplicating the current process.\n",
        "multiprocessing is a cross-platform Python module for creating and managing processes.\n",
        "19.What is the importance of closing a file in Python?\n",
        "ans.Closing a file releases system resources and ensures all data is saved properly.\n",
        "20.What is the difference between file.read() and file.readline() in Python?\n",
        "ans.file.read() reads the entire file content as a single string. file.readline() reads just one line at a time.\n",
        "21.What is the logging module in Python used for?\n",
        "ans.The logging module is used to create logs at various severity levels, outputting to console or files.\n",
        "22.What is the os module in Python used for in file handling?\n",
        "ans.The os module allows interaction with the operating system, such as creating, deleting, renaming,\n",
        "and checking files.\n",
        "23.What are the challenges associated with memory management in Python?\n",
        "ans.Challenges include memory leaks, circular references, and fragmentation, which can degrade\n",
        "performance.\n",
        "24.How do you raise an exception manually in Python?\n",
        "ans.Use the raise statement, e.g., raise ValueError('Invalid input').\n",
        "25.Why is it important to use multithreading in certain applications?\n",
        "ans.Multithreading improves performance for I/O-bound tasks by allowing them to run concurrently.\n",
        "**Practical Questions**\n",
        "1.How can you open a file for writing in Python and write a string to it?\n",
        "\n",
        "\n",
        "\n"
      ],
      "metadata": {
        "id": "pRNbVHP_I5da"
      }
    },
    {
      "cell_type": "code",
      "source": [
        "    with open('file.txt', 'w') as f:\n",
        "       f.write(\"Hello, world!\")"
      ],
      "metadata": {
        "id": "t4OkaUCFJZ_e"
      },
      "execution_count": 2,
      "outputs": []
    },
    {
      "cell_type": "markdown",
      "source": [
        "2.Write a Python program to read the contents of a file and print each line?\n"
      ],
      "metadata": {
        "id": "4jNH8IcXXY_P"
      }
    },
    {
      "cell_type": "code",
      "source": [
        "with open('file.txt', 'r') as f:\n",
        "       for line in f:\n",
        "           print(line.strip())"
      ],
      "metadata": {
        "colab": {
          "base_uri": "https://localhost:8080/"
        },
        "id": "fQMWpTLJX2DE",
        "outputId": "3695acd2-1ff6-4946-9b5c-396f623f39d2"
      },
      "execution_count": 3,
      "outputs": [
        {
          "output_type": "stream",
          "name": "stdout",
          "text": [
            "Hello, world!\n"
          ]
        }
      ]
    },
    {
      "cell_type": "markdown",
      "source": [
        "2.How would you handle a case where the file doesn't exist while trying to open it for reading?"
      ],
      "metadata": {
        "id": "VxHsMpM4X_-z"
      }
    },
    {
      "cell_type": "code",
      "source": [
        "try:\n",
        "  with open('file.txt', 'r') as f:\n",
        "           print(f.read())\n",
        "   except FileNotFoundError:\n",
        "       print(\"File does not exist!\")"
      ],
      "metadata": {
        "colab": {
          "base_uri": "https://localhost:8080/",
          "height": 106
        },
        "id": "VMWVy9WnYULw",
        "outputId": "e15246bf-0a5f-4496-c96c-3b1a3b82c593"
      },
      "execution_count": 24,
      "outputs": [
        {
          "output_type": "error",
          "ename": "IndentationError",
          "evalue": "unindent does not match any outer indentation level (<tokenize>, line 4)",
          "traceback": [
            "\u001b[0;36m  File \u001b[0;32m\"<tokenize>\"\u001b[0;36m, line \u001b[0;32m4\u001b[0m\n\u001b[0;31m    except FileNotFoundError:\u001b[0m\n\u001b[0m    ^\u001b[0m\n\u001b[0;31mIndentationError\u001b[0m\u001b[0;31m:\u001b[0m unindent does not match any outer indentation level\n"
          ]
        }
      ]
    },
    {
      "cell_type": "markdown",
      "source": [
        "4.Write a Python script that reads from one file and writes its content to another file?"
      ],
      "metadata": {
        "id": "rWQ_e81Vbnd8"
      }
    },
    {
      "cell_type": "code",
      "source": [
        "with open('input.txt', 'r') as infile:\n",
        "       content = infile.read()\n",
        "   with open('output.txt', 'w') as outfile:\n",
        "       outfile.write(content)"
      ],
      "metadata": {
        "colab": {
          "base_uri": "https://localhost:8080/",
          "height": 106
        },
        "id": "SKyWbOQjbvXV",
        "outputId": "d4eccb3d-a4a2-46b5-9456-06d89ac82724"
      },
      "execution_count": 26,
      "outputs": [
        {
          "output_type": "error",
          "ename": "IndentationError",
          "evalue": "unindent does not match any outer indentation level (<tokenize>, line 3)",
          "traceback": [
            "\u001b[0;36m  File \u001b[0;32m\"<tokenize>\"\u001b[0;36m, line \u001b[0;32m3\u001b[0m\n\u001b[0;31m    with open('output.txt', 'w') as outfile:\u001b[0m\n\u001b[0m    ^\u001b[0m\n\u001b[0;31mIndentationError\u001b[0m\u001b[0;31m:\u001b[0m unindent does not match any outer indentation level\n"
          ]
        }
      ]
    },
    {
      "cell_type": "markdown",
      "source": [
        "5.How would you catch and handle division by zero error in Python?\n"
      ],
      "metadata": {
        "id": "DFJHWSj8fJIt"
      }
    },
    {
      "cell_type": "code",
      "source": [
        "      result = 10 / 0\n",
        "   except ZeroDivisionError:\n",
        "       print(\"Cannot divide by zero!\")\n"
      ],
      "metadata": {
        "colab": {
          "base_uri": "https://localhost:8080/",
          "height": 106
        },
        "id": "3BWN7aCLfaBc",
        "outputId": "42e18bf8-f391-493a-b147-6d40c9a8ae52"
      },
      "execution_count": 30,
      "outputs": [
        {
          "output_type": "error",
          "ename": "IndentationError",
          "evalue": "unindent does not match any outer indentation level (<tokenize>, line 3)",
          "traceback": [
            "\u001b[0;36m  File \u001b[0;32m\"<tokenize>\"\u001b[0;36m, line \u001b[0;32m3\u001b[0m\n\u001b[0;31m    print(\"Cannot divide by zero!\")\u001b[0m\n\u001b[0m    ^\u001b[0m\n\u001b[0;31mIndentationError\u001b[0m\u001b[0;31m:\u001b[0m unindent does not match any outer indentation level\n"
          ]
        }
      ]
    },
    {
      "cell_type": "markdown",
      "source": [
        "6.Write a Python program that logs an error message to a log file when a division by zero exception occurs."
      ],
      "metadata": {
        "id": "R4sQ_bjDgJg1"
      }
    },
    {
      "cell_type": "code",
      "source": [
        " 10 / 0\n",
        "   except ZeroDivisionError as e:\n",
        "       logging.error(f\"Division error: {e}\")"
      ],
      "metadata": {
        "colab": {
          "base_uri": "https://localhost:8080/",
          "height": 106
        },
        "id": "U3WYiclwgkhT",
        "outputId": "3ae83deb-f8f2-440f-8578-671087b9c6da"
      },
      "execution_count": 31,
      "outputs": [
        {
          "output_type": "error",
          "ename": "IndentationError",
          "evalue": "unexpected indent (ipython-input-1036429002.py, line 2)",
          "traceback": [
            "\u001b[0;36m  File \u001b[0;32m\"/tmp/ipython-input-1036429002.py\"\u001b[0;36m, line \u001b[0;32m2\u001b[0m\n\u001b[0;31m    except ZeroDivisionError as e:\u001b[0m\n\u001b[0m    ^\u001b[0m\n\u001b[0;31mIndentationError\u001b[0m\u001b[0;31m:\u001b[0m unexpected indent\n"
          ]
        }
      ]
    },
    {
      "cell_type": "markdown",
      "source": [
        "7.How do you log information at different levels (INFO, ERROR, WARNING) in Python using the logging module?\n"
      ],
      "metadata": {
        "id": "mZURd8Yvg16k"
      }
    },
    {
      "cell_type": "code",
      "source": [
        " import logging\n",
        "   logging.basicConfig(level=logging.DEBUG)\n",
        "   logging.info(\"This is info\")\n",
        "   logging.warning(\"This is a warning\")\n",
        "   logging.error(\"This is an error\")"
      ],
      "metadata": {
        "colab": {
          "base_uri": "https://localhost:8080/",
          "height": 106
        },
        "id": "i8aEw7GthFRC",
        "outputId": "b96e73b0-0028-42e3-a09b-d0440e1fa595"
      },
      "execution_count": 32,
      "outputs": [
        {
          "output_type": "error",
          "ename": "IndentationError",
          "evalue": "unexpected indent (ipython-input-1325528152.py, line 2)",
          "traceback": [
            "\u001b[0;36m  File \u001b[0;32m\"/tmp/ipython-input-1325528152.py\"\u001b[0;36m, line \u001b[0;32m2\u001b[0m\n\u001b[0;31m    logging.basicConfig(level=logging.DEBUG)\u001b[0m\n\u001b[0m    ^\u001b[0m\n\u001b[0;31mIndentationError\u001b[0m\u001b[0;31m:\u001b[0m unexpected indent\n"
          ]
        }
      ]
    },
    {
      "cell_type": "markdown",
      "source": [
        "8.Write a program to handle a file opening error using exception handling?"
      ],
      "metadata": {
        "id": "CBXPxoTgjIKN"
      }
    },
    {
      "cell_type": "code",
      "source": [
        "try:\n",
        "  with open('missing.txt', 'r') as f\n",
        "  print(f.read())\n",
        "except FileNotFoundError:\n",
        "  print(\"File not found!\")\n",
        "except Exception as e:\n",
        "  print(f\"Error: {e}\")"
      ],
      "metadata": {
        "colab": {
          "base_uri": "https://localhost:8080/",
          "height": 106
        },
        "id": "LPzCuuICjcCl",
        "outputId": "7fea476b-a4b6-4f97-b8ee-44b72b7c72f5"
      },
      "execution_count": 41,
      "outputs": [
        {
          "output_type": "error",
          "ename": "SyntaxError",
          "evalue": "expected ':' (ipython-input-357065724.py, line 2)",
          "traceback": [
            "\u001b[0;36m  File \u001b[0;32m\"/tmp/ipython-input-357065724.py\"\u001b[0;36m, line \u001b[0;32m2\u001b[0m\n\u001b[0;31m    with open('missing.txt', 'r') as f\u001b[0m\n\u001b[0m                                      ^\u001b[0m\n\u001b[0;31mSyntaxError\u001b[0m\u001b[0;31m:\u001b[0m expected ':'\n"
          ]
        }
      ]
    },
    {
      "cell_type": "markdown",
      "source": [
        "9.How can you read a file line by line and store its content in a list in Python?"
      ],
      "metadata": {
        "id": "3v5SHlOck0P7"
      }
    },
    {
      "cell_type": "code",
      "source": [
        "lines = []\n",
        "with open('file.txt', 'r') as f:\n",
        "    for line in f:\n",
        "        lines.append(line.strip())\n",
        "print(lines)\n"
      ],
      "metadata": {
        "colab": {
          "base_uri": "https://localhost:8080/"
        },
        "id": "gbcaq-VYlT1e",
        "outputId": "428cd1fc-6461-456b-c628-f95c7be82a75"
      },
      "execution_count": 36,
      "outputs": [
        {
          "output_type": "stream",
          "name": "stdout",
          "text": [
            "['Hello, world!']\n"
          ]
        }
      ]
    },
    {
      "cell_type": "markdown",
      "source": [
        "10.How can you append data to an existing file in Python?"
      ],
      "metadata": {
        "id": "xJJBIQpGnsf-"
      }
    },
    {
      "cell_type": "code",
      "source": [
        "with open('file.txt', 'a') as f:\n",
        "        f.write(\"\\nNew line appended\")"
      ],
      "metadata": {
        "id": "V1Q8LH4Cn0l7"
      },
      "execution_count": 42,
      "outputs": []
    },
    {
      "cell_type": "markdown",
      "source": [
        "11.Write a Python program that uses a try-except block to handle an error when attempting to access a dictionary key that doesn't exist.\n"
      ],
      "metadata": {
        "id": "glM5ToJDpk2G"
      }
    },
    {
      "cell_type": "code",
      "source": [
        "my_dict = {'a': 1}\n",
        "    try:\n",
        "        print(my_dict['b'])\n",
        "    except KeyError:\n",
        "        print(\"Key not found!\")"
      ],
      "metadata": {
        "colab": {
          "base_uri": "https://localhost:8080/",
          "height": 106
        },
        "id": "rswJRZAeqH7V",
        "outputId": "f22edf91-9b29-440e-ef08-4f888fe3283b"
      },
      "execution_count": 46,
      "outputs": [
        {
          "output_type": "error",
          "ename": "IndentationError",
          "evalue": "unexpected indent (ipython-input-1986546101.py, line 2)",
          "traceback": [
            "\u001b[0;36m  File \u001b[0;32m\"/tmp/ipython-input-1986546101.py\"\u001b[0;36m, line \u001b[0;32m2\u001b[0m\n\u001b[0;31m    try:\u001b[0m\n\u001b[0m    ^\u001b[0m\n\u001b[0;31mIndentationError\u001b[0m\u001b[0;31m:\u001b[0m unexpected indent\n"
          ]
        }
      ]
    },
    {
      "cell_type": "markdown",
      "source": [
        "12.Write a program that demonstrates using multiple except blocks to handle different types of exceptions?\n"
      ],
      "metadata": {
        "id": "VF1GC_mCqXje"
      }
    },
    {
      "cell_type": "code",
      "source": [
        "try:\n",
        "        result = 10 / 'a'\n",
        "    except ZeroDivisionError:\n",
        "        print(\"Division by zero!\")\n",
        "    except TypeError:\n",
        "        print(\"Wrong type for division!\")\n",
        "    except Exception as e:\n",
        "        print(f\"Other error: {e}\")\n"
      ],
      "metadata": {
        "colab": {
          "base_uri": "https://localhost:8080/",
          "height": 106
        },
        "id": "rAkFw2lKq2NI",
        "outputId": "016d8635-d031-4b9c-98e9-f960a4b69e9a"
      },
      "execution_count": 50,
      "outputs": [
        {
          "output_type": "error",
          "ename": "IndentationError",
          "evalue": "unindent does not match any outer indentation level (<tokenize>, line 3)",
          "traceback": [
            "\u001b[0;36m  File \u001b[0;32m\"<tokenize>\"\u001b[0;36m, line \u001b[0;32m3\u001b[0m\n\u001b[0;31m    except ZeroDivisionError:\u001b[0m\n\u001b[0m    ^\u001b[0m\n\u001b[0;31mIndentationError\u001b[0m\u001b[0;31m:\u001b[0m unindent does not match any outer indentation level\n"
          ]
        }
      ]
    },
    {
      "cell_type": "markdown",
      "source": [
        "13.How would you check if a file exists before attempting to read it in Python?"
      ],
      "metadata": {
        "id": "hSTGy4w2rGAf"
      }
    },
    {
      "cell_type": "code",
      "source": [
        "import os\n",
        "    if os.path.exists('file.txt'):\n",
        "        with open('file.txt', 'r') as f:\n",
        "            print(f.read())\n",
        "    else:\n",
        "        print(\"File does not exist!\")\n"
      ],
      "metadata": {
        "colab": {
          "base_uri": "https://localhost:8080/",
          "height": 106
        },
        "id": "S9iQ4L8DrT4b",
        "outputId": "d99172c2-602d-4cb8-8c32-a97489d88306"
      },
      "execution_count": 55,
      "outputs": [
        {
          "output_type": "error",
          "ename": "IndentationError",
          "evalue": "unexpected indent (ipython-input-2299134430.py, line 2)",
          "traceback": [
            "\u001b[0;36m  File \u001b[0;32m\"/tmp/ipython-input-2299134430.py\"\u001b[0;36m, line \u001b[0;32m2\u001b[0m\n\u001b[0;31m    if os.path.exists('file.txt'):\u001b[0m\n\u001b[0m    ^\u001b[0m\n\u001b[0;31mIndentationError\u001b[0m\u001b[0;31m:\u001b[0m unexpected indent\n"
          ]
        }
      ]
    },
    {
      "cell_type": "markdown",
      "source": [
        "14.Write a program that uses the logging module to log both informational and error messages?"
      ],
      "metadata": {
        "id": "ofduF596r1ob"
      }
    },
    {
      "cell_type": "code",
      "source": [
        "import logging\n",
        "    logging.basicConfig(filename='app.log', level=logging.INFO)\n",
        "    logging.info(\"Program started\")\n",
        "    try:\n",
        "        1 / 0\n",
        "    except Exception as e:\n",
        "        logging.error(f\"Error occurred: {e}\")"
      ],
      "metadata": {
        "colab": {
          "base_uri": "https://localhost:8080/",
          "height": 106
        },
        "id": "LBHQEIeNr6zg",
        "outputId": "aded1be7-5ec8-4440-8f63-ad92363feb99"
      },
      "execution_count": 56,
      "outputs": [
        {
          "output_type": "error",
          "ename": "IndentationError",
          "evalue": "unexpected indent (ipython-input-3765662842.py, line 2)",
          "traceback": [
            "\u001b[0;36m  File \u001b[0;32m\"/tmp/ipython-input-3765662842.py\"\u001b[0;36m, line \u001b[0;32m2\u001b[0m\n\u001b[0;31m    logging.basicConfig(filename='app.log', level=logging.INFO)\u001b[0m\n\u001b[0m    ^\u001b[0m\n\u001b[0;31mIndentationError\u001b[0m\u001b[0;31m:\u001b[0m unexpected indent\n"
          ]
        }
      ]
    },
    {
      "cell_type": "markdown",
      "source": [
        "15.Write a Python program that prints the content of a file and handles the case when the file is empty?"
      ],
      "metadata": {
        "id": "7XnedicisEiE"
      }
    },
    {
      "cell_type": "code",
      "source": [
        "with open('file.txt', 'r') as f:\n",
        "        content = f.read()\n",
        "        if content:\n",
        "            print(content)\n",
        "        else:\n",
        "            print(\"File is empty!\")"
      ],
      "metadata": {
        "colab": {
          "base_uri": "https://localhost:8080/"
        },
        "id": "rtZZZb30smhI",
        "outputId": "f9c9dd2a-b33b-4e5c-b80d-4017c2b34a94"
      },
      "execution_count": 57,
      "outputs": [
        {
          "output_type": "stream",
          "name": "stdout",
          "text": [
            "Hello, world!\n",
            "New line appended\n"
          ]
        }
      ]
    },
    {
      "cell_type": "markdown",
      "source": [
        "16.Demonstrate how to use memory profiling to check the memory usage of a small program?"
      ],
      "metadata": {
        "id": "u9xpkRTZspU_"
      }
    },
    {
      "cell_type": "code",
      "source": [
        "from memory_profiler import profile\n",
        "    @profile\n",
        "    def my_function():\n",
        "        a = [1] * (10 ** 6)  # Large list\n",
        "        return len(a)\n",
        "    my_function()"
      ],
      "metadata": {
        "colab": {
          "base_uri": "https://localhost:8080/",
          "height": 106
        },
        "id": "NkD8TqVps1r6",
        "outputId": "81a3b8be-a3bf-44e4-875b-70028c89263a"
      },
      "execution_count": 58,
      "outputs": [
        {
          "output_type": "error",
          "ename": "IndentationError",
          "evalue": "unexpected indent (ipython-input-529550390.py, line 2)",
          "traceback": [
            "\u001b[0;36m  File \u001b[0;32m\"/tmp/ipython-input-529550390.py\"\u001b[0;36m, line \u001b[0;32m2\u001b[0m\n\u001b[0;31m    @profile\u001b[0m\n\u001b[0m    ^\u001b[0m\n\u001b[0;31mIndentationError\u001b[0m\u001b[0;31m:\u001b[0m unexpected indent\n"
          ]
        }
      ]
    },
    {
      "cell_type": "markdown",
      "source": [
        "17.Write a Python program to create and write a list of numbers to a file, one number per line?"
      ],
      "metadata": {
        "id": "idseFdFLtLE7"
      }
    },
    {
      "cell_type": "code",
      "source": [
        "numbers = [1, 2, 3, 4, 5]\n",
        "with open('numbers.txt', 'w') as f:\n",
        "    for num in numbers:\n",
        "        f.write(f\"{num}\\n\")\n"
      ],
      "metadata": {
        "id": "qo_B0wKmtWVM"
      },
      "execution_count": 60,
      "outputs": []
    },
    {
      "cell_type": "markdown",
      "source": [
        "18.How would you implement a basic logging setup that logs to a file with rotation after 1MB?"
      ],
      "metadata": {
        "id": "lNeVYYknt14Y"
      }
    },
    {
      "cell_type": "code",
      "source": [
        "import logging\n",
        "from logging.handlers import RotatingFileHandler\n",
        "handler = RotatingFileHandler('app.log', maxBytes=1*1024*1024, backupCount=5)\n",
        "logging.basicConfig(handlers=[handler], level=logging.INFO)\n",
        "logging.info(\"This log will rotate after 1MB\")\n"
      ],
      "metadata": {
        "id": "pacpMkGQt_Dg"
      },
      "execution_count": 62,
      "outputs": []
    },
    {
      "cell_type": "markdown",
      "source": [
        "19.Write a program that handles both IndexError and KeyError using a try-except block?"
      ],
      "metadata": {
        "id": "cQETh8yzuORX"
      }
    },
    {
      "cell_type": "code",
      "source": [
        "my_list = [1, 2]\n",
        "    my_dict = {'a': 1}\n",
        "    try:\n",
        "        print(my_list[3])  # IndexError\n",
        "        print(my_dict['b'])  # KeyError\n",
        "    except (IndexError, KeyError) as e:\n",
        "        print(f\"Error: {e}\")"
      ],
      "metadata": {
        "colab": {
          "base_uri": "https://localhost:8080/",
          "height": 106
        },
        "id": "PPDojBHcuU2N",
        "outputId": "87f065bd-0bbe-47d9-9c57-c04a0efe501f"
      },
      "execution_count": 63,
      "outputs": [
        {
          "output_type": "error",
          "ename": "IndentationError",
          "evalue": "unexpected indent (ipython-input-635868625.py, line 2)",
          "traceback": [
            "\u001b[0;36m  File \u001b[0;32m\"/tmp/ipython-input-635868625.py\"\u001b[0;36m, line \u001b[0;32m2\u001b[0m\n\u001b[0;31m    my_dict = {'a': 1}\u001b[0m\n\u001b[0m    ^\u001b[0m\n\u001b[0;31mIndentationError\u001b[0m\u001b[0;31m:\u001b[0m unexpected indent\n"
          ]
        }
      ]
    },
    {
      "cell_type": "markdown",
      "source": [
        "20.How would you open a file and read its contents using a context manager in Python?"
      ],
      "metadata": {
        "id": "V-4Prj6Yuejz"
      }
    },
    {
      "cell_type": "code",
      "source": [
        " with open('file.txt', 'r') as f:\n",
        "        content = f.read()\n",
        "        print(content)"
      ],
      "metadata": {
        "colab": {
          "base_uri": "https://localhost:8080/"
        },
        "id": "rVxM-sceulXK",
        "outputId": "805435ae-52b6-4459-8438-c9f395801abf"
      },
      "execution_count": 64,
      "outputs": [
        {
          "output_type": "stream",
          "name": "stdout",
          "text": [
            "Hello, world!\n",
            "New line appended\n"
          ]
        }
      ]
    },
    {
      "cell_type": "markdown",
      "source": [
        "21.Write a Python program that reads a file and prints the number of occurrences of a specific word?"
      ],
      "metadata": {
        "id": "VyYv1FUIusBj"
      }
    },
    {
      "cell_type": "code",
      "source": [
        "word_to_count = \"hello\"\n",
        "    count = 0\n",
        "    with open('file.txt', 'r') as f:\n",
        "        content = f.read().lower()\n",
        "        count = content.split().count(word_to_count.lower())\n",
        "    print(f\"'{word_to_count}' appears {count} times.\")"
      ],
      "metadata": {
        "colab": {
          "base_uri": "https://localhost:8080/",
          "height": 106
        },
        "id": "gCqPynSruyFD",
        "outputId": "645f2057-3251-42d8-91e3-56e46bc31cb3"
      },
      "execution_count": 65,
      "outputs": [
        {
          "output_type": "error",
          "ename": "IndentationError",
          "evalue": "unexpected indent (ipython-input-489033131.py, line 2)",
          "traceback": [
            "\u001b[0;36m  File \u001b[0;32m\"/tmp/ipython-input-489033131.py\"\u001b[0;36m, line \u001b[0;32m2\u001b[0m\n\u001b[0;31m    count = 0\u001b[0m\n\u001b[0m    ^\u001b[0m\n\u001b[0;31mIndentationError\u001b[0m\u001b[0;31m:\u001b[0m unexpected indent\n"
          ]
        }
      ]
    },
    {
      "cell_type": "markdown",
      "source": [
        "22.How can you check if a file is empty before attempting to read its contents?"
      ],
      "metadata": {
        "id": "m8Vry8T3vBUH"
      }
    },
    {
      "cell_type": "code",
      "source": [
        "import os\n",
        "    if os.path.exists('file.txt') and os.path.getsize('file.txt') > 0:\n",
        "        with open('file.txt', 'r') as f:\n",
        "            print(f.read())\n",
        "    else:\n",
        "        print(\"File is empty or doesn't exist!\")"
      ],
      "metadata": {
        "colab": {
          "base_uri": "https://localhost:8080/",
          "height": 106
        },
        "id": "yThbS6oKvHry",
        "outputId": "980b626d-9c50-4036-81fe-b772efb6aff9"
      },
      "execution_count": 66,
      "outputs": [
        {
          "output_type": "error",
          "ename": "IndentationError",
          "evalue": "unexpected indent (ipython-input-735625956.py, line 2)",
          "traceback": [
            "\u001b[0;36m  File \u001b[0;32m\"/tmp/ipython-input-735625956.py\"\u001b[0;36m, line \u001b[0;32m2\u001b[0m\n\u001b[0;31m    if os.path.exists('file.txt') and os.path.getsize('file.txt') > 0:\u001b[0m\n\u001b[0m    ^\u001b[0m\n\u001b[0;31mIndentationError\u001b[0m\u001b[0;31m:\u001b[0m unexpected indent\n"
          ]
        }
      ]
    },
    {
      "cell_type": "markdown",
      "source": [
        "23.Write a Python program that writes to a log file when an error occurs during file handling?"
      ],
      "metadata": {
        "id": "PLDzcOG3vPZb"
      }
    },
    {
      "cell_type": "code",
      "source": [
        "import logging\n",
        "    logging.basicConfig(filename='file_error.log', level=logging.ERROR)\n",
        "    try:\n",
        "        with open('missing.txt', 'r') as f:\n",
        "            f.read()\n",
        "    except Exception as e:\n",
        "        logging.error(f\"File handling error: {e}\")"
      ],
      "metadata": {
        "colab": {
          "base_uri": "https://localhost:8080/",
          "height": 106
        },
        "id": "g0UVffEfvVwU",
        "outputId": "f48ce349-978a-4adb-f836-dd9f49ca00ad"
      },
      "execution_count": 67,
      "outputs": [
        {
          "output_type": "error",
          "ename": "IndentationError",
          "evalue": "unexpected indent (ipython-input-1708847522.py, line 2)",
          "traceback": [
            "\u001b[0;36m  File \u001b[0;32m\"/tmp/ipython-input-1708847522.py\"\u001b[0;36m, line \u001b[0;32m2\u001b[0m\n\u001b[0;31m    logging.basicConfig(filename='file_error.log', level=logging.ERROR)\u001b[0m\n\u001b[0m    ^\u001b[0m\n\u001b[0;31mIndentationError\u001b[0m\u001b[0;31m:\u001b[0m unexpected indent\n"
          ]
        }
      ]
    }
  ]
}